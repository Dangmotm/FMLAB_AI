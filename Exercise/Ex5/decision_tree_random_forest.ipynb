{
 "cells": [
  {
   "cell_type": "code",
   "execution_count": 5,
   "id": "ab0960bf-7521-4d3b-bbbf-81057401c005",
   "metadata": {},
   "outputs": [],
   "source": [
    "import numpy as np\n",
    "import pandas as pd\n",
    "import matplotlib.pyplot as plt\n",
    "import seaborn as sns\n",
    "\n",
    "from sklearn.model_selection import train_test_split, GridSearchCV, learning_curve, ShuffleSplit, cross_val_score\n",
    "from sklearn.feature_selection import SelectFromModel\n",
    "from sklearn.metrics import accuracy_score, confusion_matrix, classification_report, f1_score, roc_auc_score\n",
    "\n",
    "from sklearn.ensemble import RandomForestClassifier\n",
    "from sklearn.tree import DecisionTreeClassifier\n",
    "\n",
    "seed = 42"
   ]
  },
  {
   "cell_type": "code",
   "execution_count": 3,
   "id": "862b43ed-1cd1-4109-9b86-76e8687e9d46",
   "metadata": {},
   "outputs": [
    {
     "name": "stdout",
     "output_type": "stream",
     "text": [
      "[[ 1.  6.  4. ...  0.  1.  1.]\n",
      " [ 2. 48.  2. ...  0.  1.  2.]\n",
      " [ 4. 12.  4. ...  1.  0.  1.]\n",
      " ...\n",
      " [ 4. 12.  2. ...  0.  1.  1.]\n",
      " [ 1. 45.  2. ...  0.  1.  2.]\n",
      " [ 2. 45.  4. ...  0.  1.  1.]]\n"
     ]
    }
   ],
   "source": [
    "data_path = './data/german.data-numeric'\n",
    "credit = np.genfromtxt(data_path)\n",
    "\n",
    "print(credit)"
   ]
  },
  {
   "cell_type": "code",
   "execution_count": 6,
   "id": "47fd13e6-f196-4b66-9a52-6269553f4a58",
   "metadata": {},
   "outputs": [
    {
     "name": "stdout",
     "output_type": "stream",
     "text": [
      "(1000, 24) (1000,)\n"
     ]
    }
   ],
   "source": [
    "X = credit[:, :-1]\n",
    "y = credit[:, -1]\n",
    "\n",
    "print(X.shape, y.shape)"
   ]
  },
  {
   "cell_type": "code",
   "execution_count": 7,
   "id": "bbea6dfe-c353-4ba8-9204-bcc99bd8033e",
   "metadata": {},
   "outputs": [
    {
     "name": "stdout",
     "output_type": "stream",
     "text": [
      "(800, 24) (800,)\n"
     ]
    }
   ],
   "source": [
    "X_train, X_test, y_train, y_test = train_test_split(X, y, test_size = 0.2, random_state = seed)\n",
    "\n",
    "print(X_train.shape, y_train.shape)"
   ]
  },
  {
   "cell_type": "code",
   "execution_count": 9,
   "id": "ead2d0a8-be11-4175-92f4-c6de691dcc45",
   "metadata": {},
   "outputs": [],
   "source": [
    "DT = DecisionTreeClassifier(random_state = seed)\n",
    "RF = RandomForestClassifier(random_state = seed)"
   ]
  },
  {
   "cell_type": "code",
   "execution_count": 15,
   "id": "55bd2b6d-b5ee-43b4-a5dd-70635a09b368",
   "metadata": {},
   "outputs": [
    {
     "name": "stdout",
     "output_type": "stream",
     "text": [
      "Demo DT prediction:\n",
      "DT acc = 0.665\n",
      "DT f1 = 0.7632508833922261\n",
      "DT roc auc = 0.5948431301839163\n",
      "[[108  33]\n",
      " [ 34  25]]\n"
     ]
    }
   ],
   "source": [
    "print('Demo DT prediction:')\n",
    "\n",
    "DT.fit(X_train, y_train)\n",
    "y_dt_pred = DT.predict(X_test)\n",
    "\n",
    "print(\"DT acc = {}\".format(accuracy_score(y_test, y_dt_pred)))\n",
    "print(\"DT f1 = {}\".format(f1_score(y_test, y_dt_pred)))\n",
    "print(\"DT roc auc = {}\".format(roc_auc_score(y_test, y_dt_pred)))\n",
    "print(confusion_matrix(y_test, y_dt_pred))"
   ]
  },
  {
   "cell_type": "code",
   "execution_count": 16,
   "id": "977bdbf5-1568-410d-bc39-2bf961ed94b9",
   "metadata": {},
   "outputs": [
    {
     "name": "stdout",
     "output_type": "stream",
     "text": [
      "              precision    recall  f1-score   support\n",
      "\n",
      "         1.0       0.76      0.77      0.76       141\n",
      "         2.0       0.43      0.42      0.43        59\n",
      "\n",
      "    accuracy                           0.67       200\n",
      "   macro avg       0.60      0.59      0.60       200\n",
      "weighted avg       0.66      0.67      0.66       200\n",
      "\n"
     ]
    }
   ],
   "source": [
    "print(classification_report(y_test, y_dt_pred))"
   ]
  },
  {
   "cell_type": "code",
   "execution_count": 13,
   "id": "e130d54b-ff09-4201-a6c3-b74252b50abc",
   "metadata": {},
   "outputs": [
    {
     "name": "stdout",
     "output_type": "stream",
     "text": [
      "Demo RF prediction:\n",
      "RF acc = 0.81\n",
      "RF f1 = 0.875\n",
      "RF roc auc = 0.7173939175381656\n",
      "[[133   8]\n",
      " [ 30  29]]\n"
     ]
    }
   ],
   "source": [
    "print('Demo RF prediction:')\n",
    "\n",
    "RF.fit(X_train, y_train)\n",
    "y_rf_pred = RF.predict(X_test)\n",
    "\n",
    "print(\"RF acc = {}\".format(accuracy_score(y_test, y_rf_pred)))\n",
    "print(\"RF f1 = {}\".format(f1_score(y_test, y_rf_pred)))\n",
    "print(\"RF roc auc = {}\".format(roc_auc_score(y_test, y_rf_pred)))\n",
    "print(confusion_matrix(y_test, y_rf_pred))\n"
   ]
  },
  {
   "cell_type": "code",
   "execution_count": 14,
   "id": "a05e2cc6-0a2b-4f68-81e5-9d9e0802b9c8",
   "metadata": {},
   "outputs": [
    {
     "name": "stdout",
     "output_type": "stream",
     "text": [
      "              precision    recall  f1-score   support\n",
      "\n",
      "         1.0       0.82      0.94      0.88       141\n",
      "         2.0       0.78      0.49      0.60        59\n",
      "\n",
      "    accuracy                           0.81       200\n",
      "   macro avg       0.80      0.72      0.74       200\n",
      "weighted avg       0.81      0.81      0.80       200\n",
      "\n"
     ]
    }
   ],
   "source": [
    "print(classification_report(y_test, y_rf_pred))"
   ]
  },
  {
   "cell_type": "code",
   "execution_count": 17,
   "id": "e8c1443c-0c23-497b-9a52-00d3063c5a0a",
   "metadata": {},
   "outputs": [],
   "source": [
    "def grid_search(algorithm, n_jobs, dict_param):\n",
    "    \n",
    "    if algorithm == 'decision-tree':\n",
    "        model = DecisionTreeClassifier()\n",
    "    else:\n",
    "        model = RandomForestClassifier()\n",
    "        \n",
    "    classifier = GridSearchCV(estimator = model, cv = 5, param_grid = dict_param, n_jobs = n_jobs, scoring = 'f1')\n",
    "    classifier.fit(X_train, y_train)\n",
    "    \n",
    "    print(classifier.best_estimator_)\n",
    "    return classifier.best_estimator_"
   ]
  },
  {
   "cell_type": "code",
   "execution_count": 18,
   "id": "cad3cb3a-b353-4418-bf60-ada79b67580f",
   "metadata": {},
   "outputs": [],
   "source": [
    "def evaluate(model):\n",
    "    \n",
    "    print(\"Train Accuracy :\", accuracy_score(y_train, model.predict(X_train)))\n",
    "    print(\"Train f1 score :\", f1_score(y_train, model.predict(X_train)))\n",
    "    print(\"Train roc auc :\", roc_auc_score(y_train, model.predict(X_train)))\n",
    "    print(\"Train Confusion Matrix:\")\n",
    "    print(confusion_matrix(y_train, model.predict(X_train)))\n",
    "    \n",
    "    print(\"-\" * 50)\n",
    "    \n",
    "    print(\"Test Accuracy :\", accuracy_score(y_test, model.predict(X_test)))\n",
    "    print(\"Test f1 score :\", f1_score(y_test, model.predict(X_test)))\n",
    "    print(\"Test roc auc :\", roc_auc_score(y_test, model.predict(X_test)))\n",
    "    print(\"Test Confusion Matrix:\")\n",
    "    print(confusion_matrix(y_test, model.predict(X_test)))"
   ]
  },
  {
   "cell_type": "code",
   "execution_count": null,
   "id": "ad4afcc1-fcfc-45dc-a901-27d6e1464584",
   "metadata": {},
   "outputs": [],
   "source": []
  }
 ],
 "metadata": {
  "kernelspec": {
   "display_name": "Python 3 (ipykernel)",
   "language": "python",
   "name": "python3"
  },
  "language_info": {
   "codemirror_mode": {
    "name": "ipython",
    "version": 3
   },
   "file_extension": ".py",
   "mimetype": "text/x-python",
   "name": "python",
   "nbconvert_exporter": "python",
   "pygments_lexer": "ipython3",
   "version": "3.13.7"
  }
 },
 "nbformat": 4,
 "nbformat_minor": 5
}
