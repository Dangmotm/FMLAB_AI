{
 "cells": [
  {
   "cell_type": "code",
   "execution_count": null,
   "id": "e6fcc05f-d351-4843-babb-989267e3c590",
   "metadata": {},
   "outputs": [],
   "source": []
  }
 ],
 "metadata": {
  "kernelspec": {
   "display_name": "",
   "name": ""
  },
  "language_info": {
   "name": ""
  }
 },
 "nbformat": 4,
 "nbformat_minor": 5
}
