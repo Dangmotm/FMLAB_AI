{
 "cells": [
  {
   "cell_type": "code",
   "execution_count": 1,
   "id": "ca57d202-d490-4fb2-9bf5-a2fa8c30e075",
   "metadata": {},
   "outputs": [],
   "source": [
    "import numpy as np\n",
    "import pandas as pd\n",
    "import matplotlib.pyplot as plt\n",
    "import os\n",
    "\n",
    "from sklearn.datasets import load_files\n",
    "from pyvi import ViTokenizer\n",
    "from sklearn.feature_extraction.text import CountVectorizer\n",
    "from sklearn.feature_extraction.text import TfidfTransformer\n",
    "from sklearn.pipeline import Pipeline\n",
    "%matplotlib inline\n",
    "\n",
    "INPUT = 'data/news_vnexpress'\n",
    "os.makedirs(\"images\", exist_ok = True)"
   ]
  },
  {
   "cell_type": "code",
   "execution_count": 2,
   "id": "c45127ce-0b3e-4de3-9946-f7264cafcae3",
   "metadata": {},
   "outputs": [
    {
     "name": "stdout",
     "output_type": "stream",
     "text": [
      "Các nhãn và số văn bản tương ứng trong dữ liệu\n",
      "----------------------------------------------\n",
      "doi-song: 120\n",
      "du-lich: 54\n",
      "giai-tri: 201\n",
      "giao-duc: 105\n",
      "khoa-hoc: 144\n",
      "kinh-doanh: 262\n",
      "phap-luat: 59\n",
      "suc-khoe: 162\n",
      "the-thao: 173\n",
      "thoi-su: 59\n",
      "-------------------------\n",
      "Tổng số văn bản: 1339\n"
     ]
    }
   ],
   "source": [
    "print('Các nhãn và số văn bản tương ứng trong dữ liệu')\n",
    "print('----------------------------------------------')\n",
    "\n",
    "n = 0\n",
    "for label in os.listdir(INPUT):\n",
    "    print(f'{label}: {len(os.listdir(os.path.join(INPUT, label)))}')\n",
    "    n += len(os.listdir(os.path.join(INPUT, label)))\n",
    "    \n",
    "print('-------------------------')\n",
    "print(f\"Tổng số văn bản: {n}\")"
   ]
  },
  {
   "cell_type": "code",
   "execution_count": 3,
   "id": "d1af311b-c4ea-4e64-a263-92826ab1eb7c",
   "metadata": {},
   "outputs": [
    {
     "name": "stdout",
     "output_type": "stream",
     "text": [
      "mapping:\n",
      "doi-song - 0\n",
      "du-lich - 1\n",
      "giai-tri - 2\n",
      "giao-duc - 3\n",
      "khoa-hoc - 4\n",
      "kinh-doanh - 5\n",
      "phap-luat - 6\n",
      "suc-khoe - 7\n",
      "the-thao - 8\n",
      "thoi-su - 9\n",
      "--------------------------\n",
      "['data/news_vnexpress\\\\khoa-hoc\\\\00133.txt']\n",
      "[4]\n",
      "['Mời độc giả đặt câu hỏi tại đây\\n']\n",
      "\n",
      "Tổng số văn bản: 1339\n"
     ]
    }
   ],
   "source": [
    "data_train = load_files(container_path=INPUT, encoding=\"utf-8\")\n",
    "print('mapping:')\n",
    "for i in range(len(data_train.target_names)):\n",
    "    print(f'{data_train.target_names[i]} - {i}')\n",
    "print('--------------------------')\n",
    "print(data_train.filenames[0:1])\n",
    "print(data_train.target[0:1])\n",
    "print(data_train.data[0:1])\n",
    "print(\"\\nTổng số văn bản: {}\" .format( len(data_train.filenames)))"
   ]
  },
  {
   "cell_type": "code",
   "execution_count": 5,
   "id": "98a0a732-201d-44c6-a60c-6740a3f05c7e",
   "metadata": {},
   "outputs": [
    {
     "name": "stdout",
     "output_type": "stream",
     "text": [
      "Số lượng stopwords: 1942\n",
      "['a_lô', 'a_ha', 'ai', 'ai_ai', 'ai_nấy', 'ai_đó', 'alô', 'amen', 'anh', 'anh_ấy']\n",
      "\n",
      "Số lượng từ trong từ điển: 12797\n",
      "Kích thước dữ liệu sau khi xử lý: (1339, 12797)\n",
      "Kích thước nhãn tương ứng: (1339,)\n"
     ]
    }
   ],
   "source": [
    "VNSTOPWORD = \"data/vietnamese-stopwords.txt\"\n",
    "with open(VNSTOPWORD, encoding = \"utf-8\") as f:\n",
    "    stopwords = f.readlines()\n",
    "stopwords = [x.strip().replace(\" \", \"_\") for x in stopwords]\n",
    "print(f\"Số lượng stopwords: {len(stopwords)}\")\n",
    "print(stopwords[:10])\n",
    "\n",
    "module_count_vector = CountVectorizer(stop_words=stopwords)\n",
    "model_rf_preprocess = Pipeline([('vect', module_count_vector),\n",
    "                                ('tfidf', TfidfTransformer()),\n",
    "                               ])\n",
    "\n",
    "data_preprocessed = model_rf_preprocess.fit_transform(data_train.data, data_train.target)\n",
    "X = data_preprocessed \n",
    "Y = data_train.target #\n",
    "\n",
    "print(f\"\\nSố lượng từ trong từ điển: {len(module_count_vector.vocabulary_)}\")\n",
    "print(f\"Kích thước dữ liệu sau khi xử lý: {X.shape}\")\n",
    "print(f\"Kích thước nhãn tương ứng: {Y.shape}\")\n"
   ]
  },
  {
   "cell_type": "code",
   "execution_count": 6,
   "id": "eee2e062-0411-45f1-9d57-7bc85d05e715",
   "metadata": {},
   "outputs": [
    {
     "name": "stdout",
     "output_type": "stream",
     "text": [
      "[[0.         0.         0.         ... 0.         0.14048828 0.        ]]\n",
      "5\n"
     ]
    }
   ],
   "source": [
    "print(X[100].toarray())\n",
    "print(Y[100])"
   ]
  },
  {
   "cell_type": "code",
   "execution_count": 7,
   "id": "f3a9c052-c225-4988-afd9-1c64241cc314",
   "metadata": {},
   "outputs": [
    {
     "data": {
      "text/plain": [
       "np.int64(289)"
      ]
     },
     "execution_count": 7,
     "metadata": {},
     "output_type": "execute_result"
    }
   ],
   "source": [
    "sum(sum(X[100].toarray() != 0))\n"
   ]
  },
  {
   "cell_type": "code",
   "execution_count": 8,
   "id": "0283eb40-ca06-47e0-9488-5a67999b0677",
   "metadata": {},
   "outputs": [
    {
     "name": "stdout",
     "output_type": "stream",
     "text": [
      "<Compressed Sparse Row sparse matrix of dtype 'float64'\n",
      "\twith 289 stored elements and shape (1, 12797)>\n",
      "  Coords\tValues\n",
      "  (0, 81)\t0.015211595534715633\n",
      "  (0, 100)\t0.020769547555053954\n",
      "  (0, 156)\t0.023262873797037953\n",
      "  (0, 188)\t0.04722498744523733\n",
      "  (0, 269)\t0.03324036700472501\n",
      "  (0, 392)\t0.024783841259467605\n",
      "  (0, 397)\t0.034232954192352914\n",
      "  (0, 418)\t0.048918066523847725\n",
      "  (0, 662)\t0.022769929356223215\n",
      "  (0, 909)\t0.033182248640039956\n",
      "  (0, 1194)\t0.05117031195708949\n",
      "  (0, 1209)\t0.10234062391417897\n",
      "  (0, 1219)\t0.05117031195708949\n",
      "  (0, 1271)\t0.016005705134410072\n",
      "  (0, 1590)\t0.034926623903062066\n",
      "  (0, 1631)\t0.023493949966261335\n",
      "  (0, 1783)\t0.04734509560871461\n",
      "  (0, 1866)\t0.05117031195708949\n",
      "  (0, 2076)\t0.014547704347804936\n",
      "  (0, 2101)\t0.02693672471116765\n",
      "  (0, 2111)\t0.02577563465433512\n",
      "  (0, 2135)\t0.04322051581452055\n",
      "  (0, 2140)\t0.01566196368628259\n",
      "  (0, 2159)\t0.01608450478874651\n",
      "  (0, 2170)\t0.02950839772591026\n",
      "  :\t:\n",
      "  (0, 12272)\t0.021259537682082122\n",
      "  (0, 12454)\t0.0758997005019029\n",
      "  (0, 12510)\t0.01778617457985167\n",
      "  (0, 12518)\t0.038832198646960935\n",
      "  (0, 12522)\t0.09355442947181114\n",
      "  (0, 12536)\t0.05488370325838489\n",
      "  (0, 12548)\t0.045752865989427884\n",
      "  (0, 12559)\t0.03206234356763186\n",
      "  (0, 12567)\t0.03324036700472501\n",
      "  (0, 12585)\t0.038767743735542225\n",
      "  (0, 12592)\t0.07519534686809995\n",
      "  (0, 12618)\t0.08000423234784887\n",
      "  (0, 12625)\t0.3318224864003996\n",
      "  (0, 12627)\t0.019288093792759513\n",
      "  (0, 12630)\t0.02417303634575905\n",
      "  (0, 12644)\t0.030193779677554423\n",
      "  (0, 12647)\t0.042689479937610325\n",
      "  (0, 12673)\t0.03173992101554847\n",
      "  (0, 12692)\t0.020769547555053954\n",
      "  (0, 12693)\t0.013885134230282651\n",
      "  (0, 12698)\t0.03935911209707955\n",
      "  (0, 12706)\t0.024927343279465622\n",
      "  (0, 12715)\t0.03437923951819016\n",
      "  (0, 12725)\t0.05122667806048764\n",
      "  (0, 12795)\t0.14048828324700807\n"
     ]
    }
   ],
   "source": [
    "print(X[100])"
   ]
  },
  {
   "cell_type": "code",
   "execution_count": null,
   "id": "fa823325-f167-4b6a-b5d8-c58e64ca5b4e",
   "metadata": {},
   "outputs": [],
   "source": []
  }
 ],
 "metadata": {
  "kernelspec": {
   "display_name": "Python 3 (ipykernel)",
   "language": "python",
   "name": "python3"
  },
  "language_info": {
   "codemirror_mode": {
    "name": "ipython",
    "version": 3
   },
   "file_extension": ".py",
   "mimetype": "text/x-python",
   "name": "python",
   "nbconvert_exporter": "python",
   "pygments_lexer": "ipython3",
   "version": "3.13.7"
  }
 },
 "nbformat": 4,
 "nbformat_minor": 5
}
