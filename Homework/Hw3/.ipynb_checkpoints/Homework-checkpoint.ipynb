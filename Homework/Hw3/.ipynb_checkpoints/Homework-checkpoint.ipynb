{
 "cells": [
  {
   "cell_type": "code",
   "execution_count": 51,
   "id": "537a32c8-65d7-43a7-aa55-9b3a702bdbce",
   "metadata": {},
   "outputs": [
    {
     "name": "stdout",
     "output_type": "stream",
     "text": [
      "Số chiều dữ liệu input:  (20640, 8)\n",
      "Số chiều dữ liệu target:  (20640,)\n",
      "\n",
      "5 mẫu dữ liệu đầu tiên:\n",
      "input:  [[ 8.32520000e+00  4.10000000e+01  6.98412698e+00  1.02380952e+00\n",
      "   3.22000000e+02  2.55555556e+00  3.78800000e+01 -1.22230000e+02]\n",
      " [ 8.30140000e+00  2.10000000e+01  6.23813708e+00  9.71880492e-01\n",
      "   2.40100000e+03  2.10984183e+00  3.78600000e+01 -1.22220000e+02]\n",
      " [ 7.25740000e+00  5.20000000e+01  8.28813559e+00  1.07344633e+00\n",
      "   4.96000000e+02  2.80225989e+00  3.78500000e+01 -1.22240000e+02]\n",
      " [ 5.64310000e+00  5.20000000e+01  5.81735160e+00  1.07305936e+00\n",
      "   5.58000000e+02  2.54794521e+00  3.78500000e+01 -1.22250000e+02]\n",
      " [ 3.84620000e+00  5.20000000e+01  6.28185328e+00  1.08108108e+00\n",
      "   5.65000000e+02  2.18146718e+00  3.78500000e+01 -1.22250000e+02]]\n",
      "target:  [4.526 3.585 3.521 3.413 3.422]\n"
     ]
    }
   ],
   "source": [
    "import numpy as np\n",
    "import pandas as pd\n",
    "import matplotlib.pyplot as plt\n",
    "\n",
    "from sklearn import datasets, linear_model\n",
    "from sklearn.metrics import mean_squared_error, r2_score\n",
    "from sklearn.model_selection import train_test_split\n",
    "\n",
    "from sklearn.datasets import fetch_california_housing\n",
    "\n",
    "dataset = fetch_california_housing()\n",
    "\n",
    "print(\"Số chiều dữ liệu input: \", dataset.data.shape)\n",
    "print(\"Số chiều dữ liệu target: \", dataset.target.shape)\n",
    "print()\n",
    "print(\"5 mẫu dữ liệu đầu tiên:\")\n",
    "print(\"input: \", dataset.data[:5])\n",
    "print(\"target: \",dataset.target[:5])\n",
    "\n"
   ]
  },
  {
   "cell_type": "code",
   "execution_count": 52,
   "id": "648454b3-2c02-4eff-b867-b030b80504fd",
   "metadata": {},
   "outputs": [],
   "source": [
    "X = dataset.data\n",
    "X_train = X[:16511]\n",
    "y_train = dataset.target[:16511]\n",
    "X_test = X[16512:]\n",
    "y_test = dataset.target[16512:]\n"
   ]
  },
  {
   "cell_type": "code",
   "execution_count": 56,
   "id": "0413b90e-5a21-48d6-b11c-17380c97a0ce",
   "metadata": {},
   "outputs": [],
   "source": [
    "def linear_regression(X_train, y_train):\n",
    "    \n",
    "    X_train = np.hstack((np.ones((X_train.shape[0], 1)), X_train))\n",
    "    \n",
    "    A = np.dot(X_train.T, X_train)\n",
    "    A = np.linalg.pinv(A)\n",
    "    B = np.dot(X_train.T, y_train)\n",
    "    \n",
    "    w = np.dot(A, B)\n",
    "    coef = w[1:]\n",
    "    intercept = w[0]\n",
    "    \n",
    "    return coef, intercept\n",
    "\n",
    "def predict(coef, intercept, X_test):\n",
    "    y_pred = []\n",
    "\n",
    "    for i in X_test:\n",
    "        pred = intercept + coef.dot(i.T)\n",
    "        y_pred.append(pred)\n",
    "\n",
    "    return y_pred"
   ]
  },
  {
   "cell_type": "code",
   "execution_count": 62,
   "id": "8b5922c2-b68f-4e99-82a2-cde3772d5e4c",
   "metadata": {},
   "outputs": [
    {
     "name": "stdout",
     "output_type": "stream",
     "text": [
      "[w1, ... w_n] =  [ 4.47862520e-01  9.40946426e-03 -1.20984752e-01  7.10381374e-01\n",
      " -1.46681761e-06 -8.81535236e-03 -4.21709305e-01 -4.29758954e-01]\n",
      "w0 =  -36.388862089930626\n"
     ]
    }
   ],
   "source": [
    "coef_, intercept_ = linear_regression(X_train, y_train)\n",
    "print(\"[w1, ... w_n] = \", coef)\n",
    "print(\"w0 = \", intercept)"
   ]
  },
  {
   "cell_type": "code",
   "execution_count": 66,
   "id": "2f72e5e1-2468-4f7a-b9cf-af27bfce1142",
   "metadata": {},
   "outputs": [
    {
     "data": {
      "text/html": [
       "<div>\n",
       "<style scoped>\n",
       "    .dataframe tbody tr th:only-of-type {\n",
       "        vertical-align: middle;\n",
       "    }\n",
       "\n",
       "    .dataframe tbody tr th {\n",
       "        vertical-align: top;\n",
       "    }\n",
       "\n",
       "    .dataframe thead th {\n",
       "        text-align: right;\n",
       "    }\n",
       "</style>\n",
       "<table border=\"1\" class=\"dataframe\">\n",
       "  <thead>\n",
       "    <tr style=\"text-align: right;\">\n",
       "      <th></th>\n",
       "      <th>Thực tế</th>\n",
       "      <th>Dự đoán</th>\n",
       "      <th>Lệch</th>\n",
       "    </tr>\n",
       "  </thead>\n",
       "  <tbody>\n",
       "    <tr>\n",
       "      <th>0</th>\n",
       "      <td>1.656</td>\n",
       "      <td>1.316282</td>\n",
       "      <td>0.339718</td>\n",
       "    </tr>\n",
       "    <tr>\n",
       "      <th>1</th>\n",
       "      <td>1.261</td>\n",
       "      <td>1.587536</td>\n",
       "      <td>0.326536</td>\n",
       "    </tr>\n",
       "    <tr>\n",
       "      <th>2</th>\n",
       "      <td>0.944</td>\n",
       "      <td>1.117385</td>\n",
       "      <td>0.173385</td>\n",
       "    </tr>\n",
       "    <tr>\n",
       "      <th>3</th>\n",
       "      <td>0.919</td>\n",
       "      <td>1.195473</td>\n",
       "      <td>0.276473</td>\n",
       "    </tr>\n",
       "    <tr>\n",
       "      <th>4</th>\n",
       "      <td>1.243</td>\n",
       "      <td>1.363545</td>\n",
       "      <td>0.120545</td>\n",
       "    </tr>\n",
       "    <tr>\n",
       "      <th>...</th>\n",
       "      <td>...</td>\n",
       "      <td>...</td>\n",
       "      <td>...</td>\n",
       "    </tr>\n",
       "    <tr>\n",
       "      <th>4123</th>\n",
       "      <td>0.781</td>\n",
       "      <td>0.106467</td>\n",
       "      <td>0.674533</td>\n",
       "    </tr>\n",
       "    <tr>\n",
       "      <th>4124</th>\n",
       "      <td>0.771</td>\n",
       "      <td>0.530342</td>\n",
       "      <td>0.240658</td>\n",
       "    </tr>\n",
       "    <tr>\n",
       "      <th>4125</th>\n",
       "      <td>0.923</td>\n",
       "      <td>0.143771</td>\n",
       "      <td>0.779229</td>\n",
       "    </tr>\n",
       "    <tr>\n",
       "      <th>4126</th>\n",
       "      <td>0.847</td>\n",
       "      <td>0.295032</td>\n",
       "      <td>0.551968</td>\n",
       "    </tr>\n",
       "    <tr>\n",
       "      <th>4127</th>\n",
       "      <td>0.894</td>\n",
       "      <td>0.497540</td>\n",
       "      <td>0.396460</td>\n",
       "    </tr>\n",
       "  </tbody>\n",
       "</table>\n",
       "<p>4128 rows × 3 columns</p>\n",
       "</div>"
      ],
      "text/plain": [
       "      Thực tế   Dự đoán      Lệch\n",
       "0       1.656  1.316282  0.339718\n",
       "1       1.261  1.587536  0.326536\n",
       "2       0.944  1.117385  0.173385\n",
       "3       0.919  1.195473  0.276473\n",
       "4       1.243  1.363545  0.120545\n",
       "...       ...       ...       ...\n",
       "4123    0.781  0.106467  0.674533\n",
       "4124    0.771  0.530342  0.240658\n",
       "4125    0.923  0.143771  0.779229\n",
       "4126    0.847  0.295032  0.551968\n",
       "4127    0.894  0.497540  0.396460\n",
       "\n",
       "[4128 rows x 3 columns]"
      ]
     },
     "execution_count": 66,
     "metadata": {},
     "output_type": "execute_result"
    }
   ],
   "source": [
    "y_pred = predict(coef, intercept, X_test)\n",
    "\n",
    "pd.DataFrame(data = np.array([y_test, y_pred, abs(y_test - y_pred)]).T,\n",
    "                             columns = [\"Thực tế\", \"Dự đoán\", \"Lệch\"])"
   ]
  },
  {
   "cell_type": "code",
   "execution_count": 68,
   "id": "07136ab3-408f-4049-8f76-8e110ef0f1d7",
   "metadata": {},
   "outputs": [
    {
     "name": "stdout",
     "output_type": "stream",
     "text": [
      "0.7033437845420468\n"
     ]
    }
   ],
   "source": [
    "loss = np.sqrt(mean_squared_error(y_test, y_pred))\n",
    "print(loss)"
   ]
  },
  {
   "cell_type": "code",
   "execution_count": 71,
   "id": "d3fab332-bf73-475c-b03c-00904f9de3c9",
   "metadata": {},
   "outputs": [
    {
     "name": "stdout",
     "output_type": "stream",
     "text": [
      "[w1, ... w_n] =  [ 4.47862520e-01  9.40946424e-03 -1.20984752e-01  7.10381373e-01\n",
      " -1.46681765e-06 -8.81535235e-03 -4.21709306e-01 -4.29758955e-01]\n",
      "w0 =  -36.38886219765743\n"
     ]
    }
   ],
   "source": [
    "from sklearn.linear_model import LinearRegression\n",
    "\n",
    "reg_lib = LinearRegression()\n",
    "reg_lib.fit(X_train, y_train)\n",
    "\n",
    "print(\"[w1, ... w_n] = \", reg_lib.coef_)\n",
    "print(\"w0 = \", reg_lib.intercept_)"
   ]
  },
  {
   "cell_type": "code",
   "execution_count": 73,
   "id": "0b15af63-d5de-4351-8c8f-978aa0b572cf",
   "metadata": {},
   "outputs": [
    {
     "data": {
      "text/html": [
       "<div>\n",
       "<style scoped>\n",
       "    .dataframe tbody tr th:only-of-type {\n",
       "        vertical-align: middle;\n",
       "    }\n",
       "\n",
       "    .dataframe tbody tr th {\n",
       "        vertical-align: top;\n",
       "    }\n",
       "\n",
       "    .dataframe thead th {\n",
       "        text-align: right;\n",
       "    }\n",
       "</style>\n",
       "<table border=\"1\" class=\"dataframe\">\n",
       "  <thead>\n",
       "    <tr style=\"text-align: right;\">\n",
       "      <th></th>\n",
       "      <th>Thực tế</th>\n",
       "      <th>Dự đoán</th>\n",
       "      <th>Lệch</th>\n",
       "    </tr>\n",
       "  </thead>\n",
       "  <tbody>\n",
       "    <tr>\n",
       "      <th>0</th>\n",
       "      <td>1.656</td>\n",
       "      <td>1.316282</td>\n",
       "      <td>0.339718</td>\n",
       "    </tr>\n",
       "    <tr>\n",
       "      <th>1</th>\n",
       "      <td>1.261</td>\n",
       "      <td>1.587536</td>\n",
       "      <td>0.326536</td>\n",
       "    </tr>\n",
       "    <tr>\n",
       "      <th>2</th>\n",
       "      <td>0.944</td>\n",
       "      <td>1.117385</td>\n",
       "      <td>0.173385</td>\n",
       "    </tr>\n",
       "    <tr>\n",
       "      <th>3</th>\n",
       "      <td>0.919</td>\n",
       "      <td>1.195473</td>\n",
       "      <td>0.276473</td>\n",
       "    </tr>\n",
       "    <tr>\n",
       "      <th>4</th>\n",
       "      <td>1.243</td>\n",
       "      <td>1.363545</td>\n",
       "      <td>0.120545</td>\n",
       "    </tr>\n",
       "    <tr>\n",
       "      <th>...</th>\n",
       "      <td>...</td>\n",
       "      <td>...</td>\n",
       "      <td>...</td>\n",
       "    </tr>\n",
       "    <tr>\n",
       "      <th>4123</th>\n",
       "      <td>0.781</td>\n",
       "      <td>0.106467</td>\n",
       "      <td>0.674533</td>\n",
       "    </tr>\n",
       "    <tr>\n",
       "      <th>4124</th>\n",
       "      <td>0.771</td>\n",
       "      <td>0.530342</td>\n",
       "      <td>0.240658</td>\n",
       "    </tr>\n",
       "    <tr>\n",
       "      <th>4125</th>\n",
       "      <td>0.923</td>\n",
       "      <td>0.143771</td>\n",
       "      <td>0.779229</td>\n",
       "    </tr>\n",
       "    <tr>\n",
       "      <th>4126</th>\n",
       "      <td>0.847</td>\n",
       "      <td>0.295032</td>\n",
       "      <td>0.551968</td>\n",
       "    </tr>\n",
       "    <tr>\n",
       "      <th>4127</th>\n",
       "      <td>0.894</td>\n",
       "      <td>0.497540</td>\n",
       "      <td>0.396460</td>\n",
       "    </tr>\n",
       "  </tbody>\n",
       "</table>\n",
       "<p>4128 rows × 3 columns</p>\n",
       "</div>"
      ],
      "text/plain": [
       "      Thực tế   Dự đoán      Lệch\n",
       "0       1.656  1.316282  0.339718\n",
       "1       1.261  1.587536  0.326536\n",
       "2       0.944  1.117385  0.173385\n",
       "3       0.919  1.195473  0.276473\n",
       "4       1.243  1.363545  0.120545\n",
       "...       ...       ...       ...\n",
       "4123    0.781  0.106467  0.674533\n",
       "4124    0.771  0.530342  0.240658\n",
       "4125    0.923  0.143771  0.779229\n",
       "4126    0.847  0.295032  0.551968\n",
       "4127    0.894  0.497540  0.396460\n",
       "\n",
       "[4128 rows x 3 columns]"
      ]
     },
     "execution_count": 73,
     "metadata": {},
     "output_type": "execute_result"
    }
   ],
   "source": [
    "y_pred = reg_lib.predict(X_test)\n",
    "\n",
    "pd.DataFrame(data = np.array([y_test, y_pred, abs(y_test - y_pred)]).T,\n",
    "                             columns = [\"Thực tế\", \"Dự đoán\", \"Lệch\"])\n"
   ]
  },
  {
   "cell_type": "code",
   "execution_count": 74,
   "id": "4431627d-c388-4413-8dd7-9d0bb94b7d61",
   "metadata": {},
   "outputs": [
    {
     "name": "stdout",
     "output_type": "stream",
     "text": [
      "0.7033437844973904\n"
     ]
    }
   ],
   "source": [
    "reg_lib_pred = reg_lib.predict(X_test)\n",
    "\n",
    "loss = np.sqrt(mean_squared_error(y_test, reg_lib_pred))\n",
    "\n",
    "print(loss)"
   ]
  }
 ],
 "metadata": {
  "kernelspec": {
   "display_name": "Python 3 (ipykernel)",
   "language": "python",
   "name": "python3"
  },
  "language_info": {
   "codemirror_mode": {
    "name": "ipython",
    "version": 3
   },
   "file_extension": ".py",
   "mimetype": "text/x-python",
   "name": "python",
   "nbconvert_exporter": "python",
   "pygments_lexer": "ipython3",
   "version": "3.13.7"
  }
 },
 "nbformat": 4,
 "nbformat_minor": 5
}
